{
 "cells": [
  {
   "cell_type": "code",
   "execution_count": null,
   "metadata": {},
   "outputs": [],
   "source": [
    "from qiskit import *\n",
    "qr1 = QuantumRegister(3)\n",
    "cr1 = ClassicalRegister(3)\n",
    "xxa = QuantumCircuit(qr1, cr1)\n",
    "%matplotlib inline\n",
    "xxa.h(qr1[0])\n",
    "xxa.h(qr1[1])\n",
    "xxa.cx(qr1[1],qr1[2])\n",
    "xxa.h(qr1[1])\n",
    "xxa.cx(qr1[0],qr1[2])\n",
    "xxa.h(qr1[0])\n",
    "xxa.h(qr1[2])\n",
    "\n",
    "xxa.barrier(qr1)\n",
    "\n",
    "xxa.tdg(qr1[2])\n",
    "xxa.h(qr1[0])\n",
    "xxa.h(qr1[1])\n",
    "xxa.h(qr1[2])\n",
    "xxa.measure(qr1, cr1)\n",
    "xxa.draw(output='mpl')"
   ]
  },
  {
   "cell_type": "code",
   "execution_count": null,
   "metadata": {},
   "outputs": [],
   "source": [
    "qr2 = QuantumRegister(3)\n",
    "cr2 = ClassicalRegister(3)\n",
    "xxb = QuantumCircuit(qr2, cr2)\n",
    "%matplotlib inline\n",
    "xxb.h(qr2[0])\n",
    "xxb.h(qr2[1])\n",
    "xxb.cx(qr2[1],qr2[2])\n",
    "xxb.h(qr2[1])\n",
    "xxb.cx(qr2[0],qr2[2])\n",
    "xxb.h(qr2[0])\n",
    "xxb.h(qr2[2])\n",
    "\n",
    "xxb.barrier(qr2)\n",
    "\n",
    "xxb.t(qr2[2])\n",
    "xxb.h(qr2[0])\n",
    "xxb.h(qr2[1])\n",
    "xxb.h(qr2[2])\n",
    "xxb.measure(qr2, cr2)\n",
    "xxb.draw(output='mpl')"
   ]
  },
  {
   "cell_type": "code",
   "execution_count": null,
   "metadata": {},
   "outputs": [],
   "source": [
    "qr3 = QuantumRegister(3)\n",
    "cr3 = ClassicalRegister(3)\n",
    "yya = QuantumCircuit(qr3, cr3)\n",
    "%matplotlib inline\n",
    "yya.h(qr3[0])\n",
    "yya.h(qr3[1])\n",
    "yya.cx(qr3[1],qr3[2])\n",
    "yya.h(qr3[1])\n",
    "yya.cx(qr3[0],qr3[2])\n",
    "yya.h(qr3[0])\n",
    "yya.h(qr3[2])\n",
    "\n",
    "yya.barrier(qr3)\n",
    "\n",
    "yya.tdg(qr3[2])\n",
    "yya.sdg(qr3[0])\n",
    "yya.sdg(qr3[1])\n",
    "yya.h(qr3[0])\n",
    "yya.h(qr3[1])\n",
    "yya.h(qr3[2])\n",
    "yya.measure(qr3, cr3)\n",
    "yya.draw(output='mpl')"
   ]
  },
  {
   "cell_type": "code",
   "execution_count": null,
   "metadata": {},
   "outputs": [],
   "source": [
    "qr4 = QuantumRegister(3)\n",
    "cr4 = ClassicalRegister(3)\n",
    "yyb = QuantumCircuit(qr4, cr4)\n",
    "%matplotlib inline\n",
    "yyb.h(qr4[0])\n",
    "yyb.h(qr4[1])\n",
    "yyb.cx(qr4[1],qr4[2])\n",
    "yyb.h(qr4[1])\n",
    "yyb.cx(qr4[0],qr4[2])\n",
    "yyb.h(qr4[0])\n",
    "yyb.h(qr4[2])\n",
    "\n",
    "yyb.barrier(qr4)\n",
    "\n",
    "yyb.t(qr4[2])\n",
    "yyb.sdg(qr4[0])\n",
    "yyb.sdg(qr4[1])\n",
    "yyb.h(qr4[0])\n",
    "yyb.h(qr4[1])\n",
    "yyb.h(qr4[2])\n",
    "yyb.measure(qr4, cr4)\n",
    "yyb.draw(output='mpl')"
   ]
  },
  {
   "cell_type": "code",
   "execution_count": null,
   "metadata": {},
   "outputs": [],
   "source": [
    "IBMQ.load_account()\n",
    "provider = IBMQ.get_provider('ibm-q')\n",
    "qcomp = provider.get_backend('ibmq_athens')\n",
    "job1 = execute(xxa, backend=qcomp,shots = 4096)\n",
    "job2 = execute(xxb, backend=qcomp,shots = 4096)\n",
    "job3 = execute(yya, backend=qcomp,shots = 4096)\n",
    "job4 = execute(yyb, backend=qcomp,shots = 4096)\n",
    "from qiskit.tools.monitor import job_monitor"
   ]
  },
  {
   "cell_type": "code",
   "execution_count": null,
   "metadata": {},
   "outputs": [],
   "source": [
    "job_monitor(job1)\n",
    "job_monitor(job2)\n",
    "job_monitor(job3)\n",
    "job_monitor(job4)"
   ]
  },
  {
   "cell_type": "code",
   "execution_count": null,
   "metadata": {},
   "outputs": [],
   "source": [
    "result1 = job1.result()\n",
    "result2 = job2.result()\n",
    "result3 = job3.result()\n",
    "result4 = job4.result()\n",
    "from qiskit.tools.visualization import plot_histogram"
   ]
  },
  {
   "cell_type": "code",
   "execution_count": null,
   "metadata": {},
   "outputs": [],
   "source": [
    "plot_histogram(result1.get_counts(xxa))"
   ]
  },
  {
   "cell_type": "code",
   "execution_count": null,
   "metadata": {},
   "outputs": [],
   "source": [
    "plot_histogram(result2.get_counts(xxb))"
   ]
  },
  {
   "cell_type": "code",
   "execution_count": null,
   "metadata": {},
   "outputs": [],
   "source": [
    "plot_histogram(result3.get_counts(yya))"
   ]
  },
  {
   "cell_type": "code",
   "execution_count": null,
   "metadata": {},
   "outputs": [],
   "source": [
    "plot_histogram(result4.get_counts(yyb))"
   ]
  },
  {
   "cell_type": "code",
   "execution_count": null,
   "metadata": {},
   "outputs": [],
   "source": [
    "p1=((result.get_counts(xxa)['000']\n",
    "     +result.get_counts(xxa)['011']\n",
    "     +result.get_counts(xxa)['101']\n",
    "     +result.get_counts(xxa)['110']\n",
    "  \n",
    "    -(result.get_counts(xxa)['001']\n",
    "     +result.get_counts(xxa)['010']\n",
    "     +result.get_counts(xxa)['100']\n",
    "     +result.get_counts(xxa)['111']\n",
    ")\n",
    "      )/4096)\n",
    "print(p1)"
   ]
  },
  {
   "cell_type": "code",
   "execution_count": null,
   "metadata": {},
   "outputs": [],
   "source": [
    "print(abs(p1)+abs(p2)+abs(p3)+abs(p4))"
   ]
  }
 ],
 "metadata": {
  "kernelspec": {
   "display_name": "Python 3",
   "language": "python",
   "name": "python3"
  },
  "language_info": {
   "codemirror_mode": {
    "name": "ipython",
    "version": 3
   },
   "file_extension": ".py",
   "mimetype": "text/x-python",
   "name": "python",
   "nbconvert_exporter": "python",
   "pygments_lexer": "ipython3",
   "version": "3.8.5"
  }
 },
 "nbformat": 4,
 "nbformat_minor": 4
}
